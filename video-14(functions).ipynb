{
 "cells": [
  {
   "cell_type": "markdown",
   "id": "ee930dc0",
   "metadata": {},
   "source": [
    "# Python Functions."
   ]
  },
  {
   "cell_type": "markdown",
   "id": "dcc41f66",
   "metadata": {},
   "source": [
    "# 1st function"
   ]
  },
  {
   "cell_type": "code",
   "execution_count": 1,
   "id": "5a6bd5e7",
   "metadata": {},
   "outputs": [],
   "source": [
    "def my_function():\n",
    "    print(\"Hello from inside the function\") "
   ]
  },
  {
   "cell_type": "code",
   "execution_count": 5,
   "id": "6a20af36",
   "metadata": {},
   "outputs": [
    {
     "name": "stdout",
     "output_type": "stream",
     "text": [
      "Hello from inside the function\n"
     ]
    }
   ],
   "source": [
    "my_function()"
   ]
  },
  {
   "cell_type": "markdown",
   "id": "97ed76c9",
   "metadata": {},
   "source": [
    "# name function"
   ]
  },
  {
   "cell_type": "code",
   "execution_count": 6,
   "id": "3a7e05d8",
   "metadata": {},
   "outputs": [],
   "source": [
    "def my_function(your_name):\n",
    "    print(\"Your name is\" , your_name)"
   ]
  },
  {
   "cell_type": "code",
   "execution_count": 7,
   "id": "7424d2d9",
   "metadata": {},
   "outputs": [
    {
     "name": "stdout",
     "output_type": "stream",
     "text": [
      "Your name is Chandrakanth\n"
     ]
    }
   ],
   "source": [
    "my_function(\"Chandrakanth\")"
   ]
  },
  {
   "cell_type": "code",
   "execution_count": 8,
   "id": "bab151c1",
   "metadata": {},
   "outputs": [
    {
     "name": "stdout",
     "output_type": "stream",
     "text": [
      "Your name is CK Boppudi\n"
     ]
    }
   ],
   "source": [
    "my_function(\"CK Boppudi\")"
   ]
  },
  {
   "cell_type": "markdown",
   "id": "c83ee842",
   "metadata": {},
   "source": [
    "# function:3"
   ]
  },
  {
   "cell_type": "code",
   "execution_count": 12,
   "id": "3f45576b",
   "metadata": {},
   "outputs": [],
   "source": [
    "def my_function(country = \"India\"):\n",
    "    print(\"I am from\" , country)"
   ]
  },
  {
   "cell_type": "code",
   "execution_count": 15,
   "id": "9966961b",
   "metadata": {},
   "outputs": [
    {
     "name": "stdout",
     "output_type": "stream",
     "text": [
      "I am from India\n"
     ]
    }
   ],
   "source": [
    "my_function()"
   ]
  },
  {
   "cell_type": "code",
   "execution_count": 16,
   "id": "37cff50b",
   "metadata": {},
   "outputs": [
    {
     "name": "stdout",
     "output_type": "stream",
     "text": [
      "I am from Guntur\n"
     ]
    }
   ],
   "source": [
    "my_function(\"Guntur\")"
   ]
  },
  {
   "cell_type": "code",
   "execution_count": 17,
   "id": "9a4ce73d",
   "metadata": {},
   "outputs": [
    {
     "name": "stdout",
     "output_type": "stream",
     "text": [
      "I am from Peoria, IL\n"
     ]
    }
   ],
   "source": [
    "my_function(\"Peoria, IL\")"
   ]
  },
  {
   "cell_type": "markdown",
   "id": "98425653",
   "metadata": {},
   "source": [
    "# function: 4"
   ]
  },
  {
   "cell_type": "code",
   "execution_count": 23,
   "id": "c4411601",
   "metadata": {},
   "outputs": [],
   "source": [
    "def my_function(food):\n",
    "    for x in food:\n",
    "        print(x)"
   ]
  },
  {
   "cell_type": "code",
   "execution_count": 24,
   "id": "32f73f03",
   "metadata": {},
   "outputs": [],
   "source": [
    "fruits = [\"banana\" , \"apple\" , \"mango\"]"
   ]
  },
  {
   "cell_type": "code",
   "execution_count": 25,
   "id": "a0945bbd",
   "metadata": {},
   "outputs": [
    {
     "name": "stdout",
     "output_type": "stream",
     "text": [
      "banana\n",
      "apple\n",
      "mango\n"
     ]
    }
   ],
   "source": [
    "my_function(fruits)"
   ]
  },
  {
   "cell_type": "markdown",
   "id": "9748d12e",
   "metadata": {},
   "source": [
    "# returning a function:"
   ]
  },
  {
   "cell_type": "code",
   "execution_count": 26,
   "id": "2e241b59",
   "metadata": {},
   "outputs": [],
   "source": [
    "def my_function(x):\n",
    "    return 5*x"
   ]
  },
  {
   "cell_type": "code",
   "execution_count": 28,
   "id": "e110767f",
   "metadata": {},
   "outputs": [
    {
     "data": {
      "text/plain": [
       "10"
      ]
     },
     "execution_count": 28,
     "metadata": {},
     "output_type": "execute_result"
    }
   ],
   "source": [
    "my_function(2)"
   ]
  },
  {
   "cell_type": "code",
   "execution_count": 29,
   "id": "e05688eb",
   "metadata": {},
   "outputs": [
    {
     "data": {
      "text/plain": [
       "50"
      ]
     },
     "execution_count": 29,
     "metadata": {},
     "output_type": "execute_result"
    }
   ],
   "source": [
    "my_function(10)"
   ]
  },
  {
   "cell_type": "code",
   "execution_count": 31,
   "id": "858f8bf8",
   "metadata": {},
   "outputs": [],
   "source": [
    "def my_function(x):\n",
    "    return x**2"
   ]
  },
  {
   "cell_type": "code",
   "execution_count": 32,
   "id": "2e633e74",
   "metadata": {},
   "outputs": [
    {
     "data": {
      "text/plain": [
       "4"
      ]
     },
     "execution_count": 32,
     "metadata": {},
     "output_type": "execute_result"
    }
   ],
   "source": [
    "my_function(2)"
   ]
  },
  {
   "cell_type": "code",
   "execution_count": 33,
   "id": "de72bc20",
   "metadata": {},
   "outputs": [
    {
     "data": {
      "text/plain": [
       "144"
      ]
     },
     "execution_count": 33,
     "metadata": {},
     "output_type": "execute_result"
    }
   ],
   "source": [
    "my_function(12)"
   ]
  },
  {
   "cell_type": "code",
   "execution_count": 34,
   "id": "7908b451",
   "metadata": {},
   "outputs": [
    {
     "data": {
      "text/plain": [
       "25"
      ]
     },
     "execution_count": 34,
     "metadata": {},
     "output_type": "execute_result"
    }
   ],
   "source": [
    "my_function(5)"
   ]
  },
  {
   "cell_type": "code",
   "execution_count": 35,
   "id": "25bfe9d1",
   "metadata": {},
   "outputs": [
    {
     "data": {
      "text/plain": [
       "169"
      ]
     },
     "execution_count": 35,
     "metadata": {},
     "output_type": "execute_result"
    }
   ],
   "source": [
    "my_function(13)"
   ]
  },
  {
   "cell_type": "code",
   "execution_count": 36,
   "id": "b94e262f",
   "metadata": {},
   "outputs": [],
   "source": [
    "def my_function(x,y):\n",
    "    return x+y"
   ]
  },
  {
   "cell_type": "code",
   "execution_count": 37,
   "id": "d97d5f99",
   "metadata": {},
   "outputs": [
    {
     "data": {
      "text/plain": [
       "5"
      ]
     },
     "execution_count": 37,
     "metadata": {},
     "output_type": "execute_result"
    }
   ],
   "source": [
    "my_function(2,3)"
   ]
  },
  {
   "cell_type": "code",
   "execution_count": 40,
   "id": "852e511d",
   "metadata": {},
   "outputs": [
    {
     "data": {
      "text/plain": [
       "458643"
      ]
     },
     "execution_count": 40,
     "metadata": {},
     "output_type": "execute_result"
    }
   ],
   "source": [
    "my_function(245,458398)"
   ]
  },
  {
   "cell_type": "code",
   "execution_count": 41,
   "id": "5dc5b918",
   "metadata": {},
   "outputs": [],
   "source": [
    "def my_function(x,y):\n",
    "    return x**y"
   ]
  },
  {
   "cell_type": "code",
   "execution_count": 42,
   "id": "833f2b98",
   "metadata": {},
   "outputs": [
    {
     "data": {
      "text/plain": [
       "8"
      ]
     },
     "execution_count": 42,
     "metadata": {},
     "output_type": "execute_result"
    }
   ],
   "source": [
    "my_function(2,3)"
   ]
  },
  {
   "cell_type": "code",
   "execution_count": 44,
   "id": "b14c4f81",
   "metadata": {},
   "outputs": [
    {
     "data": {
      "text/plain": [
       "1333735776850284124449081472843776"
      ]
     },
     "execution_count": 44,
     "metadata": {},
     "output_type": "execute_result"
    }
   ],
   "source": [
    "my_function(24,24)"
   ]
  },
  {
   "cell_type": "markdown",
   "id": "4bbb8ecc",
   "metadata": {},
   "source": [
    "# funtion for changing celcius to farheinheit"
   ]
  },
  {
   "cell_type": "code",
   "execution_count": 67,
   "id": "0ff26c14",
   "metadata": {},
   "outputs": [],
   "source": [
    "def func_temperature(c):\n",
    "    f_temperature = ((9.0/5)*c) + 32\n",
    "    print(\"%d degrees centigrade is equal to %d Farenheit\" %(c,f_temperature))"
   ]
  },
  {
   "cell_type": "code",
   "execution_count": 68,
   "id": "acfdd784",
   "metadata": {},
   "outputs": [
    {
     "name": "stdout",
     "output_type": "stream",
     "text": [
      "-40 degrees centigrade is equal to -40 Farenheit\n"
     ]
    }
   ],
   "source": [
    " func_temperature(-40)"
   ]
  },
  {
   "cell_type": "code",
   "execution_count": 69,
   "id": "a29c175f",
   "metadata": {},
   "outputs": [],
   "source": [
    "def func_temperature(c):\n",
    "    for i in c:\n",
    "        f_temperature = ((9.0/5)*i) + 32\n",
    "        print(\"%d degrees centigrade is equal to %d Farenheit\" %(i,f_temperature))"
   ]
  },
  {
   "cell_type": "code",
   "execution_count": 70,
   "id": "d2962e56",
   "metadata": {},
   "outputs": [],
   "source": [
    "centi = [-40 , -20 , -1 , 0 , 10 , 20 , 40]"
   ]
  },
  {
   "cell_type": "code",
   "execution_count": 71,
   "id": "3dbb9e22",
   "metadata": {},
   "outputs": [
    {
     "name": "stdout",
     "output_type": "stream",
     "text": [
      "-40 degrees centigrade is equal to -40 Farenheit\n",
      "-20 degrees centigrade is equal to -4 Farenheit\n",
      "-1 degrees centigrade is equal to 30 Farenheit\n",
      "0 degrees centigrade is equal to 32 Farenheit\n",
      "10 degrees centigrade is equal to 50 Farenheit\n",
      "20 degrees centigrade is equal to 68 Farenheit\n",
      "40 degrees centigrade is equal to 104 Farenheit\n"
     ]
    }
   ],
   "source": [
    "func_temperature(centi)"
   ]
  },
  {
   "cell_type": "markdown",
   "id": "4c09b3d6",
   "metadata": {},
   "source": [
    "# function for rotating and save the image."
   ]
  },
  {
   "cell_type": "code",
   "execution_count": 93,
   "id": "e9eabfb7",
   "metadata": {},
   "outputs": [],
   "source": [
    "from scipy import misc , ndimage\n",
    "import cv2 as cv\n",
    "import matplotlib.pyplot as plt"
   ]
  },
  {
   "cell_type": "code",
   "execution_count": 94,
   "id": "f6dd9a86",
   "metadata": {},
   "outputs": [],
   "source": [
    "def rotated(image):\n",
    "    rotated_image = ndimage.rotate(image , 45)\n",
    "    misc.imsave(\"rotated image\" , rotated_image)"
   ]
  },
  {
   "cell_type": "code",
   "execution_count": 108,
   "id": "a8ce9f47",
   "metadata": {},
   "outputs": [],
   "source": [
    "def blurred(image):\n",
    "    blurred_image = cv.GaussianBlur(image , (5,5) , cv.BORDER_DEFAULT)\n",
    "    plt.savefig(\"blurred image\")"
   ]
  },
  {
   "cell_type": "code",
   "execution_count": 109,
   "id": "b624a7e3",
   "metadata": {},
   "outputs": [],
   "source": [
    "def denoised(image):\n",
    "    denoised_image = ndimage.median_filter(image , 3)\n",
    "    misc.imsave(\"denoised image\" , denoised_image)"
   ]
  },
  {
   "cell_type": "code",
   "execution_count": 110,
   "id": "b2d1255a",
   "metadata": {},
   "outputs": [
    {
     "data": {
      "text/plain": [
       "<matplotlib.image.AxesImage at 0x22b59ed4d90>"
      ]
     },
     "execution_count": 110,
     "metadata": {},
     "output_type": "execute_result"
    },
    {
     "data": {
      "image/png": "[encoded data removed]",
      "text/plain": [
       "<Figure size 432x288 with 1 Axes>"
      ]
     },
     "metadata": {
      "needs_background": "light"
     },
     "output_type": "display_data"
    }
   ],
   "source": [
    "image_1 = cv.imread(r\"C:\\Users\\DELL\\Desktop\\L&T 30\\S040756-CW-501-SPOT-41-46-1-2-60DEG-150PCS-5MHZ-CC.scn.png\")\n",
    "plt.imshow(image_1)"
   ]
  },
  {
   "cell_type": "code",
   "execution_count": 114,
   "id": "017de524",
   "metadata": {},
   "outputs": [
    {
     "data": {
      "text/plain": [
       "<Figure size 432x288 with 0 Axes>"
      ]
     },
     "metadata": {},
     "output_type": "display_data"
    }
   ],
   "source": [
    "blurred(image_1)"
   ]
  },
  {
   "cell_type": "code",
   "execution_count": null,
   "id": "f39e4ed4",
   "metadata": {},
   "outputs": [],
   "source": []
  }
 ],
 "metadata": {
  "kernelspec": {
   "display_name": "Python 3 (ipykernel)",
   "language": "python",
   "name": "python3"
  },
  "language_info": {
   "codemirror_mode": {
    "name": "ipython",
    "version": 3
   },
   "file_extension": ".py",
   "mimetype": "text/x-python",
   "name": "python",
   "nbconvert_exporter": "python",
   "pygments_lexer": "ipython3",
   "version": "3.9.7"
  }
 },
 "nbformat": 4,
 "nbformat_minor": 5
}
